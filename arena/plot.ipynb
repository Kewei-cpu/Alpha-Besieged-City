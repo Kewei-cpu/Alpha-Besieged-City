{
 "cells": [
  {
   "cell_type": "code",
   "execution_count": 1,
   "id": "initial_id",
   "metadata": {
    "collapsed": true,
    "ExecuteTime": {
     "end_time": "2024-01-09T12:19:43.053307500Z",
     "start_time": "2024-01-09T12:19:41.284160700Z"
    }
   },
   "outputs": [],
   "source": [
    "import json\n",
    "import os\n",
    "import time\n",
    "\n",
    "import matplotlib.pyplot as plt\n",
    "import numpy as np\n",
    "\n",
    "from alphazero import ChessBoard\n",
    "from arena import *"
   ]
  },
  {
   "cell_type": "code",
   "outputs": [
    {
     "name": "stderr",
     "output_type": "stream",
     "text": [
      "Playing:  29%|████████▊                     | 1461/5000 [17:20<35:21,  1.67it/s]"
     ]
    }
   ],
   "source": [
    "# r = [MaxSigmoidTerritory] * 3 + [MaxTerritory] + [MaxDictTerritory] * 2 + [MaxRelativeSigmoidTerritory] * 3\n",
    "# p = [\n",
    "#     {\"name\": \"Max 2x+2\", \"K\": 2, \"B\": 2},\n",
    "#     {\"name\": \"Max 2x+1\", \"K\": 2, \"B\": 1},\n",
    "#     {\"name\": \"Max 3x+1\", \"K\": 3, \"B\": 1},\n",
    "#     {\"name\": \"Max 0/0.5/1\"},\n",
    "#     {\"name\": \"Max 0.2/0.5/0.8/1\", \"D\": {0: 0.2, -1: 0.5, -2: 0.8, -3: 1}},\n",
    "#     {\"name\": \"Max 0.1/0.3/0.7/1\", \"D\": {0: 0.1, -1: 0.3, -2: 0.7, -3: 1}},\n",
    "#     {\"name\": \"MaxRel 2x+2\", \"K\": 2, \"B\": 2},\n",
    "#     {\"name\": \"MaxRel 2x+1\", \"K\": 2, \"B\": 1},\n",
    "#     {\"name\": \"MaxRel 3x+1\", \"K\": 3, \"B\": 1},\n",
    "# ]\n",
    "\n",
    "r = [MaxRelativeSigmoidTerritory] * 2\n",
    "p = [{\"name\": \"MaxRel 2x+1\", \"K\": 2, \"B\": 1},\n",
    "     {\"name\": \"MaxRel 3x+1\", \"K\": 3, \"B\": 1}, ]\n",
    "\n",
    "arena = Arena(ChessBoard(), robots=r, param_list=p, N=5000)\n",
    "history = arena.match()\n"
   ],
   "metadata": {
    "collapsed": false,
    "is_executing": true,
    "ExecuteTime": {
     "start_time": "2024-01-09T12:19:43.057307Z"
    }
   },
   "id": "c047be236f5542aa",
   "execution_count": null
  },
  {
   "cell_type": "code",
   "outputs": [],
   "source": [
    "os.makedirs('./log', exist_ok=True)\n",
    "print(len(history))\n",
    "t = time.strftime('%Y-%m-%d_%H-%M-%S', time.localtime(time.time()))\n",
    "with open(f'./log/match_history_{t}.json', 'w', encoding='utf-8') as f:\n",
    "    json.dump(history, f)"
   ],
   "metadata": {
    "collapsed": false,
    "is_executing": true
   },
   "id": "787cc2bbcb885a25",
   "execution_count": null
  },
  {
   "cell_type": "code",
   "outputs": [],
   "source": [
    "print(\"=\" * 60)\n",
    "print(\"NAME                   ELO           WIN-DRAW-LOSE\")\n",
    "print(\"=\" * 60)\n",
    "\n",
    "%config InlineBackend.figure_format='svg'#输出矢量图设置\n",
    "plt.figure(figsize=(12, 8))\n",
    "\n",
    "for robot in arena.robots:\n",
    "    print(\n",
    "        f\"{robot.name:<20}{str(round(robot.elo, 1)):>6} {str(round(np.mean(robot.elos), 1)):>6} {robot.results.count(1)}-{robot.results.count(0.5)}-{robot.results.count(0)}\")\n",
    "    x = np.arange(len(robot.elos))\n",
    "    y = np.array([np.mean(robot.elos[:i + 1]) for i in x])\n",
    "    plt.plot(x, y, label=robot.name)\n",
    "plt.legend()\n",
    "plt.xlabel(\"Game\")\n",
    "plt.ylabel(\"ELO\")\n",
    "plt.show()"
   ],
   "metadata": {
    "collapsed": false,
    "is_executing": true
   },
   "id": "b7b2825441afa012",
   "execution_count": null
  },
  {
   "cell_type": "code",
   "outputs": [],
   "source": [],
   "metadata": {
    "collapsed": false,
    "is_executing": true
   },
   "id": "9dc2f62fb3a5df1d",
   "execution_count": null
  }
 ],
 "metadata": {
  "kernelspec": {
   "display_name": "Python 3",
   "language": "python",
   "name": "python3"
  },
  "language_info": {
   "codemirror_mode": {
    "name": "ipython",
    "version": 2
   },
   "file_extension": ".py",
   "mimetype": "text/x-python",
   "name": "python",
   "nbconvert_exporter": "python",
   "pygments_lexer": "ipython2",
   "version": "2.7.6"
  }
 },
 "nbformat": 4,
 "nbformat_minor": 5
}
