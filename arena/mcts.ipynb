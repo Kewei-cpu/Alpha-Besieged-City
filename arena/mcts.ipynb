{
 "cells": [
  {
   "cell_type": "code",
   "outputs": [],
   "source": [
    "from alphazero import ChessBoard, TerritoryMCTS\n",
    "from arena import MaxDiffSigmoidTerritory\n",
    "from tqdm import tqdm\n",
    "import numpy as np"
   ],
   "metadata": {
    "collapsed": false
   },
   "id": "ac9331bd621af8d6",
   "execution_count": null
  },
  {
   "cell_type": "code",
   "outputs": [],
   "source": [
    "game_num = 50\n",
    "results = [0, 0, 0] # MCTS win-draw-lose\n",
    "\n",
    "\n",
    "bar = tqdm(range(game_num), desc='Matching... 0-0-0', ncols=80)\n",
    "for game in bar:\n",
    "    board = ChessBoard()\n",
    "    terr = MaxDiffSigmoidTerritory(board)\n",
    "    mcts = TerritoryMCTS(c_puct=4, n_iters=1000)\n",
    "    \n",
    "    init_flag = game % 2\n",
    "    flag = init_flag\n",
    "    while not board.is_game_over()[0]:\n",
    "        if flag == 0:\n",
    "            action = mcts.get_action(board)\n",
    "        else:\n",
    "            action = terr.play()\n",
    "        board.do_action(action)\n",
    "        flag = 1 - flag\n",
    "        \n",
    "    if board.is_game_over()[1] == init_flag:\n",
    "        results[0] += 1\n",
    "    elif board.is_game_over()[1] == 1 - init_flag:\n",
    "        results[2] += 1\n",
    "    else:\n",
    "        results[1] += 1\n",
    "    \n",
    "    bar.set_description(f\"Matching... {'-'.join(map(str, results))}\")"
   ],
   "metadata": {
    "collapsed": false
   },
   "id": "fe2c3241cd598919",
   "execution_count": null
  }
 ],
 "metadata": {
  "kernelspec": {
   "display_name": "Python 3",
   "language": "python",
   "name": "python3"
  },
  "language_info": {
   "codemirror_mode": {
    "name": "ipython",
    "version": 2
   },
   "file_extension": ".py",
   "mimetype": "text/x-python",
   "name": "python",
   "nbconvert_exporter": "python",
   "pygments_lexer": "ipython2",
   "version": "2.7.6"
  }
 },
 "nbformat": 4,
 "nbformat_minor": 5
}
