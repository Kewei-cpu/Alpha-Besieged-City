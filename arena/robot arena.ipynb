{
 "cells": [
  {
   "cell_type": "code",
   "execution_count": 1,
   "id": "initial_id",
   "metadata": {
    "collapsed": true,
    "ExecuteTime": {
     "end_time": "2024-01-14T08:58:30.218211400Z",
     "start_time": "2024-01-14T08:58:28.081352500Z"
    }
   },
   "outputs": [],
   "source": [
    "import json\n",
    "import os\n",
    "import time\n",
    "\n",
    "import matplotlib.pyplot as plt\n",
    "import numpy as np\n",
    "\n",
    "from alphazero import ChessBoard\n",
    "from arena import *"
   ]
  },
  {
   "cell_type": "code",
   "outputs": [
    {
     "name": "stderr",
     "output_type": "stream",
     "text": [
      "Playing:   9%|██▊                             | 88/1000 [00:37<06:24,  2.37it/s]\n"
     ]
    },
    {
     "ename": "KeyboardInterrupt",
     "evalue": "",
     "output_type": "error",
     "traceback": [
      "\u001B[1;31m---------------------------------------------------------------------------\u001B[0m",
      "\u001B[1;31mKeyboardInterrupt\u001B[0m                         Traceback (most recent call last)",
      "Cell \u001B[1;32mIn[2], line 22\u001B[0m\n\u001B[0;32m     19\u001B[0m p \u001B[38;5;241m=\u001B[39m [{}, {}]\n\u001B[0;32m     21\u001B[0m arena \u001B[38;5;241m=\u001B[39m Arena(robots\u001B[38;5;241m=\u001B[39mr, param_list\u001B[38;5;241m=\u001B[39mp, N\u001B[38;5;241m=\u001B[39m\u001B[38;5;241m1000\u001B[39m)\n\u001B[1;32m---> 22\u001B[0m history \u001B[38;5;241m=\u001B[39m \u001B[43marena\u001B[49m\u001B[38;5;241;43m.\u001B[39;49m\u001B[43mmatch\u001B[49m\u001B[43m(\u001B[49m\u001B[43m)\u001B[49m\n",
      "File \u001B[1;32m~\\OneDrive\\Documents\\Python Projects\\Alpha-Besieged-City\\arena\\elo_arena.py:35\u001B[0m, in \u001B[0;36mArena.match\u001B[1;34m(self)\u001B[0m\n\u001B[0;32m     31\u001B[0m \u001B[38;5;28;01mfor\u001B[39;00m player_blue, player_green \u001B[38;5;129;01min\u001B[39;00m tqdm(\u001B[38;5;28mself\u001B[39m\u001B[38;5;241m.\u001B[39mgenerate_matches(), ncols\u001B[38;5;241m=\u001B[39m\u001B[38;5;241m80\u001B[39m, desc\u001B[38;5;241m=\u001B[39m\u001B[38;5;124m\"\u001B[39m\u001B[38;5;124mPlaying\u001B[39m\u001B[38;5;124m\"\u001B[39m):\n\u001B[0;32m     33\u001B[0m     game \u001B[38;5;241m=\u001B[39m Game(\u001B[38;5;28mself\u001B[39m\u001B[38;5;241m.\u001B[39mboard, player_blue, player_green)\n\u001B[1;32m---> 35\u001B[0m     blue_score, green_score, game_moves \u001B[38;5;241m=\u001B[39m \u001B[43mgame\u001B[49m\u001B[38;5;241;43m.\u001B[39;49m\u001B[43mrun\u001B[49m\u001B[43m(\u001B[49m\u001B[43m)\u001B[49m\n\u001B[0;32m     37\u001B[0m     \u001B[38;5;28mself\u001B[39m\u001B[38;5;241m.\u001B[39mall_games\u001B[38;5;241m.\u001B[39mappend(game_moves)\n\u001B[0;32m     39\u001B[0m     blue_elo \u001B[38;5;241m=\u001B[39m player_blue\u001B[38;5;241m.\u001B[39melo\n",
      "File \u001B[1;32m~\\OneDrive\\Documents\\Python Projects\\Alpha-Besieged-City\\arena\\elo_arena.py:66\u001B[0m, in \u001B[0;36mGame.run\u001B[1;34m(self)\u001B[0m\n\u001B[0;32m     64\u001B[0m \u001B[38;5;28;01mdef\u001B[39;00m \u001B[38;5;21mrun\u001B[39m(\u001B[38;5;28mself\u001B[39m):\n\u001B[0;32m     65\u001B[0m     \u001B[38;5;28;01mwhile\u001B[39;00m \u001B[38;5;28;01mTrue\u001B[39;00m:\n\u001B[1;32m---> 66\u001B[0m         blue_action \u001B[38;5;241m=\u001B[39m \u001B[38;5;28;43mself\u001B[39;49m\u001B[38;5;241;43m.\u001B[39;49m\u001B[43mblue\u001B[49m\u001B[38;5;241;43m.\u001B[39;49m\u001B[43mplay\u001B[49m\u001B[43m(\u001B[49m\u001B[43m)\u001B[49m\n\u001B[0;32m     67\u001B[0m         \u001B[38;5;28mself\u001B[39m\u001B[38;5;241m.\u001B[39mall_moves\u001B[38;5;241m.\u001B[39mappend(blue_action)\n\u001B[0;32m     68\u001B[0m         \u001B[38;5;28mself\u001B[39m\u001B[38;5;241m.\u001B[39mboard\u001B[38;5;241m.\u001B[39mdo_action(blue_action)\n",
      "File \u001B[1;32m~\\OneDrive\\Documents\\Python Projects\\Alpha-Besieged-City\\arena\\robot.py:131\u001B[0m, in \u001B[0;36mMaxTerritory.play\u001B[1;34m(self)\u001B[0m\n\u001B[0;32m    128\u001B[0m     \u001B[38;5;28mprint\u001B[39m(\u001B[38;5;124m\"\u001B[39m\u001B[38;5;124mRandom\u001B[39m\u001B[38;5;124m\"\u001B[39m)\n\u001B[0;32m    129\u001B[0m     \u001B[38;5;28;01mreturn\u001B[39;00m random\u001B[38;5;241m.\u001B[39mchoice(\u001B[38;5;28mself\u001B[39m\u001B[38;5;241m.\u001B[39mboard\u001B[38;5;241m.\u001B[39mavailable_actions)\n\u001B[1;32m--> 131\u001B[0m all_scores \u001B[38;5;241m=\u001B[39m \u001B[38;5;28;43mself\u001B[39;49m\u001B[38;5;241;43m.\u001B[39;49m\u001B[43mget_action_scores\u001B[49m\u001B[43m(\u001B[49m\u001B[43m)\u001B[49m\n\u001B[0;32m    132\u001B[0m action \u001B[38;5;241m=\u001B[39m random\u001B[38;5;241m.\u001B[39mchoice([a \u001B[38;5;28;01mfor\u001B[39;00m a, s \u001B[38;5;129;01min\u001B[39;00m \u001B[38;5;28mzip\u001B[39m(\u001B[38;5;28mself\u001B[39m\u001B[38;5;241m.\u001B[39mboard\u001B[38;5;241m.\u001B[39mavailable_actions, all_scores) \u001B[38;5;28;01mif\u001B[39;00m s \u001B[38;5;241m==\u001B[39m \u001B[38;5;28mmax\u001B[39m(all_scores)])\n\u001B[0;32m    134\u001B[0m \u001B[38;5;28;01mreturn\u001B[39;00m action\n",
      "File \u001B[1;32m~\\OneDrive\\Documents\\Python Projects\\Alpha-Besieged-City\\arena\\robot.py:92\u001B[0m, in \u001B[0;36mMaxTerritory.get_action_scores\u001B[1;34m(self)\u001B[0m\n\u001B[0;32m     90\u001B[0m \u001B[38;5;28;01mfor\u001B[39;00m action \u001B[38;5;129;01min\u001B[39;00m \u001B[38;5;28mself\u001B[39m\u001B[38;5;241m.\u001B[39mboard\u001B[38;5;241m.\u001B[39mavailable_actions:\n\u001B[0;32m     91\u001B[0m     board \u001B[38;5;241m=\u001B[39m \u001B[38;5;28mself\u001B[39m\u001B[38;5;241m.\u001B[39mboard\u001B[38;5;241m.\u001B[39mcopy()\n\u001B[1;32m---> 92\u001B[0m     \u001B[43mboard\u001B[49m\u001B[38;5;241;43m.\u001B[39;49m\u001B[43mdo_action\u001B[49m\u001B[43m(\u001B[49m\u001B[43maction\u001B[49m\u001B[43m,\u001B[49m\u001B[43m \u001B[49m\u001B[43mupdate_available_actions\u001B[49m\u001B[38;5;241;43m=\u001B[39;49m\u001B[38;5;28;43;01mFalse\u001B[39;49;00m\u001B[43m)\u001B[49m\n\u001B[0;32m     93\u001B[0m     score \u001B[38;5;241m=\u001B[39m \u001B[38;5;241m0\u001B[39m\n\u001B[0;32m     95\u001B[0m     \u001B[38;5;28;01mif\u001B[39;00m board\u001B[38;5;241m.\u001B[39mis_game_over()[\u001B[38;5;241m0\u001B[39m]:\n",
      "File \u001B[1;32m~\\OneDrive\\Documents\\Python Projects\\Alpha-Besieged-City\\alphazero\\chess_board.py:113\u001B[0m, in \u001B[0;36mChessBoard.do_action\u001B[1;34m(self, action, update_available_actions)\u001B[0m\n\u001B[0;32m    111\u001B[0m \u001B[38;5;66;03m# 更新墙历史\u001B[39;00m\n\u001B[0;32m    112\u001B[0m \u001B[38;5;28;01mfor\u001B[39;00m i \u001B[38;5;129;01min\u001B[39;00m (\u001B[38;5;241m8\u001B[39m, \u001B[38;5;241m7\u001B[39m, \u001B[38;5;241m11\u001B[39m, \u001B[38;5;241m10\u001B[39m):\n\u001B[1;32m--> 113\u001B[0m     \u001B[38;5;28mself\u001B[39m\u001B[38;5;241m.\u001B[39mstate[i] \u001B[38;5;241m=\u001B[39m \u001B[38;5;28mself\u001B[39m\u001B[38;5;241m.\u001B[39mstate[i \u001B[38;5;241m-\u001B[39m \u001B[38;5;241m1\u001B[39m]\n\u001B[0;32m    115\u001B[0m \u001B[38;5;66;03m# MOVE\u001B[39;00m\n\u001B[0;32m    117\u001B[0m move \u001B[38;5;241m=\u001B[39m action \u001B[38;5;241m/\u001B[39m\u001B[38;5;241m/\u001B[39m \u001B[38;5;241m4\u001B[39m\n",
      "\u001B[1;31mKeyboardInterrupt\u001B[0m: "
     ]
    }
   ],
   "source": [
    "# r = [MaxSigmoidTerritory] * 3 + [MaxTerritory] + [MaxDictTerritory] * 2 + [MaxPercentSigmoidTerritory] * 3\n",
    "# p = [\n",
    "#     {\"name\": \"Max 2x+2\", \"K\": 2, \"B\": 2},\n",
    "#     {\"name\": \"Max 2x+1\", \"K\": 2, \"B\": 1},\n",
    "#     {\"name\": \"Max 3x+1\", \"K\": 3, \"B\": 1},\n",
    "#     {\"name\": \"Max 0/0.5/1\"},\n",
    "#     {\"name\": \"Max 0.2/0.5/0.8/1\", \"D\": {0: 0.2, -1: 0.5, -2: 0.8, -3: 1}},\n",
    "#     {\"name\": \"Max 0.1/0.3/0.7/1\", \"D\": {0: 0.1, -1: 0.3, -2: 0.7, -3: 1}},\n",
    "#     {\"name\": \"MaxRel 2x+2\", \"K\": 2, \"B\": 2},\n",
    "#     {\"name\": \"MaxRel 2x+1\", \"K\": 2, \"B\": 1},\n",
    "#     {\"name\": \"MaxRel 3x+1\", \"K\": 3, \"B\": 1},\n",
    "# ]\n",
    "\n",
    "# r = [MaxPercentSigmoidTerritory] * 2\n",
    "# p = [{\"name\": \"MaxRel 2x+1\", \"K\": 2, \"B\": 1},\n",
    "#      {\"name\": \"MaxRel 3x+1\", \"K\": 3, \"B\": 1}, ]\n",
    "\n",
    "r = [MaxTerritory] * 3\n",
    "p = [{}, {}]\n",
    "\n",
    "arena = Arena(robots=r, param_list=p, N=1000)\n",
    "history = arena.match()\n"
   ],
   "metadata": {
    "collapsed": false,
    "ExecuteTime": {
     "end_time": "2024-01-14T08:59:07.475351200Z",
     "start_time": "2024-01-14T08:58:30.220245900Z"
    }
   },
   "id": "c047be236f5542aa",
   "execution_count": 2
  },
  {
   "cell_type": "code",
   "outputs": [],
   "source": [
    "os.makedirs('../log/arena', exist_ok=True)\n",
    "print(len(history))\n",
    "t = time.strftime('%Y-%m-%d_%H-%M-%S', time.localtime(time.time()))\n",
    "with open(f'../log/arena/match_history_{t}.json', 'w', encoding='utf-8') as f:\n",
    "    json.dump(history, f)"
   ],
   "metadata": {
    "collapsed": false,
    "ExecuteTime": {
     "start_time": "2024-01-14T08:59:07.471351400Z"
    }
   },
   "id": "787cc2bbcb885a25",
   "execution_count": null
  },
  {
   "cell_type": "code",
   "outputs": [],
   "source": [
    "print(\"=\" * 60)\n",
    "print(\"NAME                   ELO           WIN-DRAW-LOSE\")\n",
    "print(\"=\" * 60)\n",
    "\n",
    "%config InlineBackend.figure_format='svg'#输出矢量图设置\n",
    "plt.figure(figsize=(12, 8))\n",
    "\n",
    "for robot in arena.robots:\n",
    "    print(\n",
    "        f\"{robot.name:<20}{str(round(robot.elo, 1)):>6} {str(round(np.mean(robot.elos), 1)):>6} {robot.results.count(1)}-{robot.results.count(0.5)}-{robot.results.count(0)}\")\n",
    "    x = np.arange(len(robot.elos))\n",
    "    y = np.array([np.mean(robot.elos[:i + 1]) for i in x])\n",
    "    plt.plot(x, y, label=robot.name)\n",
    "plt.legend()\n",
    "plt.xlabel(\"Game\")\n",
    "plt.ylabel(\"ELO\")\n",
    "plt.show()"
   ],
   "metadata": {
    "collapsed": false,
    "ExecuteTime": {
     "start_time": "2024-01-14T08:59:07.473350600Z"
    }
   },
   "id": "b7b2825441afa012",
   "execution_count": null
  },
  {
   "cell_type": "code",
   "outputs": [],
   "source": [],
   "metadata": {
    "collapsed": false,
    "ExecuteTime": {
     "start_time": "2024-01-14T08:59:07.476350500Z"
    }
   },
   "id": "9dc2f62fb3a5df1d",
   "execution_count": null
  }
 ],
 "metadata": {
  "kernelspec": {
   "display_name": "Python 3",
   "language": "python",
   "name": "python3"
  },
  "language_info": {
   "codemirror_mode": {
    "name": "ipython",
    "version": 2
   },
   "file_extension": ".py",
   "mimetype": "text/x-python",
   "name": "python",
   "nbconvert_exporter": "python",
   "pygments_lexer": "ipython2",
   "version": "2.7.6"
  }
 },
 "nbformat": 4,
 "nbformat_minor": 5
}
