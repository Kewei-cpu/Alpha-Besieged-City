{
 "cells": [
  {
   "cell_type": "code",
   "outputs": [],
   "source": [
    "import torch\n",
    "from torch import Tensor\n",
    "\n",
    "from alphazero import PolicyValueNet"
   ],
   "metadata": {
    "collapsed": false,
    "ExecuteTime": {
     "end_time": "2024-01-24T13:56:47.130479900Z",
     "start_time": "2024-01-24T13:56:47.119481200Z"
    }
   },
   "id": "6165ab8a257092da",
   "execution_count": 35
  },
  {
   "cell_type": "code",
   "outputs": [],
   "source": [
    "model: PolicyValueNet = torch.load(\"./data/policy_value_net_20.pth\").to(\"cpu\")"
   ],
   "metadata": {
    "collapsed": false,
    "ExecuteTime": {
     "end_time": "2024-01-24T13:56:47.175522100Z",
     "start_time": "2024-01-24T13:56:47.130479900Z"
    }
   },
   "id": "c876de5fd0581793",
   "execution_count": 36
  },
  {
   "cell_type": "code",
   "outputs": [],
   "source": [
    "import json\n",
    "\n",
    "model.eval()\n",
    "\n",
    "with open(\"./positions/start.json\", encoding=\"utf-8\") as f:\n",
    "    start_pos: list = json.load(f)\n",
    "\n",
    "with open(\"./positions/opening.json\", encoding=\"utf-8\") as f:\n",
    "    opening_pos: list = json.load(f)\n",
    "\n",
    "with open(\"./positions/middlegame.json\", encoding=\"utf-8\") as f:\n",
    "    middlegame_pos: list = json.load(f)\n",
    "\n",
    "with open(\"./positions/matein1.json\", encoding=\"utf-8\") as f:\n",
    "    matein1_pos: list = json.load(f)"
   ],
   "metadata": {
    "collapsed": false,
    "ExecuteTime": {
     "end_time": "2024-01-24T13:56:47.190103500Z",
     "start_time": "2024-01-24T13:56:47.176521Z"
    }
   },
   "id": "d6716f8f947b00dd",
   "execution_count": 37
  },
  {
   "cell_type": "code",
   "outputs": [
    {
     "name": "stdout",
     "output_type": "stream",
     "text": [
      "tensor(80)\n",
      "tensor([0.0018], grad_fn=<ViewBackward0>)\n",
      "tensor(93)\n",
      "tensor([-0.0029], grad_fn=<ViewBackward0>)\n",
      "tensor(23)\n",
      "tensor([0.0162], grad_fn=<ViewBackward0>)\n",
      "tensor(68)\n",
      "tensor([-0.0011], grad_fn=<ViewBackward0>)\n"
     ]
    }
   ],
   "source": [
    "for pos in (start_pos, opening_pos, middlegame_pos, matein1_pos):\n",
    "    p_hat: Tensor\n",
    "    value: Tensor\n",
    "    p_hat, value = model.forward(Tensor(pos).unsqueeze(0))\n",
    "\n",
    "    p: Tensor = torch.exp(p_hat).flatten()\n",
    "    print(torch.argmax(p))\n",
    "    print(value.flatten())\n",
    "\n",
    "  "
   ],
   "metadata": {
    "collapsed": false,
    "ExecuteTime": {
     "end_time": "2024-01-24T13:56:47.222103300Z",
     "start_time": "2024-01-24T13:56:47.192105300Z"
    }
   },
   "id": "980777e6faf61716",
   "execution_count": 38
  },
  {
   "cell_type": "code",
   "outputs": [],
   "source": [],
   "metadata": {
    "collapsed": false,
    "ExecuteTime": {
     "end_time": "2024-01-24T13:56:47.247105800Z",
     "start_time": "2024-01-24T13:56:47.223104800Z"
    }
   },
   "id": "9ce578e29449bf71",
   "execution_count": 38
  }
 ],
 "metadata": {
  "kernelspec": {
   "display_name": "Python 3",
   "language": "python",
   "name": "python3"
  },
  "language_info": {
   "codemirror_mode": {
    "name": "ipython",
    "version": 2
   },
   "file_extension": ".py",
   "mimetype": "text/x-python",
   "name": "python",
   "nbconvert_exporter": "python",
   "pygments_lexer": "ipython2",
   "version": "2.7.6"
  }
 },
 "nbformat": 4,
 "nbformat_minor": 5
}
