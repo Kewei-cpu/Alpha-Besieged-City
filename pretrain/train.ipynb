{
 "cells": [
  {
   "cell_type": "code",
   "outputs": [],
   "source": [
    "from collections import deque\n",
    "\n",
    "import torch\n",
    "from torch.optim import Adam\n",
    "from torch.optim.lr_scheduler import ExponentialLR\n",
    "from torch.utils.data import DataLoader, Dataset\n",
    "from tqdm import tqdm\n",
    "\n",
    "from alphazero import PolicyValueNet, ChessBoard\n",
    "from alphazero.self_play_dataset import SelfPlayDataSet, SelfPlayData\n",
    "from alphazero.train import PolicyValueLoss\n"
   ],
   "metadata": {
    "collapsed": false,
    "ExecuteTime": {
     "end_time": "2024-01-24T12:38:36.579087100Z",
     "start_time": "2024-01-24T12:38:34.102233700Z"
    }
   },
   "id": "2b7a90774285caef",
   "execution_count": 2
  },
  {
   "cell_type": "code",
   "outputs": [],
   "source": [
    "class GameDataset(Dataset):\n",
    "    \"\"\" 自我博弈数据集类，每个样本为元组 `(feature_planes, pi, z)` \"\"\"\n",
    "\n",
    "    def __init__(self, data_list):\n",
    "        super().__init__()\n",
    "        self.__data_deque = deque(data_list)\n",
    "\n",
    "    def __len__(self):\n",
    "        return len(self.__data_deque)\n",
    "\n",
    "    def __getitem__(self, index):\n",
    "        return self.__data_deque[index]\n",
    "\n",
    "    def clear(self):\n",
    "        \"\"\" 清空数据集 \"\"\"\n",
    "        self.__data_deque.clear()\n"
   ],
   "metadata": {
    "collapsed": false,
    "ExecuteTime": {
     "end_time": "2024-01-24T12:38:36.595083100Z",
     "start_time": "2024-01-24T12:38:36.581084700Z"
    }
   },
   "id": "afab733ea620fa76",
   "execution_count": 3
  },
  {
   "cell_type": "code",
   "outputs": [],
   "source": [
    "device = torch.device('cuda:0')\n",
    "chess_board = ChessBoard(board_len=7)\n",
    "\n",
    "# 创建数网络\n",
    "policy_value_net = PolicyValueNet(board_len=7, n_feature_planes=13, policy_output_dim=100, is_use_gpu=True)\n",
    "\n",
    "# 创建优化器和损失函数\n",
    "optimizer = Adam(policy_value_net.parameters(), lr=1e-2, weight_decay=1e-4)\n",
    "criterion = PolicyValueLoss()\n",
    "\n",
    "# self.lr_scheduler = MultiStepLR(self.optimizer, [1500, 2500], gamma=0.1)\n",
    "lr_scheduler = ExponentialLR(optimizer, gamma=0.998)  # 0.998 ** 1000 = 0.135\n",
    "\n"
   ],
   "metadata": {
    "collapsed": false
   },
   "id": "7035d53ca9a74002"
  },
  {
   "cell_type": "code",
   "outputs": [],
   "source": [
    "data_list  = torch.load(\"./data/data_deque.pth\")"
   ],
   "metadata": {
    "collapsed": false,
    "ExecuteTime": {
     "end_time": "2024-01-24T12:40:36.910678300Z",
     "start_time": "2024-01-24T12:40:00.527095300Z"
    }
   },
   "id": "b34bc37741a8fd1",
   "execution_count": 6
  },
  {
   "cell_type": "code",
   "outputs": [
    {
     "name": "stdout",
     "output_type": "stream",
     "text": [
      "609070\n"
     ]
    }
   ],
   "source": [
    "dataset = GameDataset(data_list)\n",
    "print(len(dataset))\n"
   ],
   "metadata": {
    "collapsed": false,
    "ExecuteTime": {
     "end_time": "2024-01-24T12:42:00.669897300Z",
     "start_time": "2024-01-24T12:42:00.633531100Z"
    }
   },
   "id": "b05521f6c8a1826a",
   "execution_count": 11
  },
  {
   "cell_type": "code",
   "outputs": [],
   "source": [
    "data_loader = DataLoader(dataset, batch_size=100, shuffle=True, drop_last=False)"
   ],
   "metadata": {
    "collapsed": false,
    "ExecuteTime": {
     "end_time": "2024-01-24T12:42:24.475024100Z",
     "start_time": "2024-01-24T12:42:24.441020300Z"
    }
   },
   "id": "7e88d96bd55f0c3e",
   "execution_count": 12
  },
  {
   "cell_type": "code",
   "outputs": [
    {
     "name": "stdout",
     "output_type": "stream",
     "text": [
      "Epoch 1\n"
     ]
    },
    {
     "name": "stderr",
     "output_type": "stream",
     "text": [
      "Batch 6091: : 6091it [02:01, 50.12it/s]\n"
     ]
    },
    {
     "name": "stdout",
     "output_type": "stream",
     "text": [
      "Epoch 1 Loss: 2.7633\n",
      "Epoch 2\n"
     ]
    },
    {
     "name": "stderr",
     "output_type": "stream",
     "text": [
      "Batch 6091: : 6091it [01:47, 56.77it/s]\n"
     ]
    },
    {
     "name": "stdout",
     "output_type": "stream",
     "text": [
      "Epoch 2 Loss: 2.9978\n",
      "Epoch 3\n"
     ]
    },
    {
     "name": "stderr",
     "output_type": "stream",
     "text": [
      "Batch 6091: : 6091it [01:49, 55.64it/s]\n"
     ]
    },
    {
     "name": "stdout",
     "output_type": "stream",
     "text": [
      "Epoch 3 Loss: 2.8063\n",
      "Epoch 4\n"
     ]
    },
    {
     "name": "stderr",
     "output_type": "stream",
     "text": [
      "Batch 6091: : 6091it [01:49, 55.55it/s]\n"
     ]
    },
    {
     "name": "stdout",
     "output_type": "stream",
     "text": [
      "Epoch 4 Loss: 3.1907\n",
      "Epoch 5\n"
     ]
    },
    {
     "name": "stderr",
     "output_type": "stream",
     "text": [
      "Batch 6091: : 6091it [01:59, 51.14it/s]\n"
     ]
    },
    {
     "name": "stdout",
     "output_type": "stream",
     "text": [
      "Epoch 5 Loss: 2.8691\n",
      "Epoch 6\n"
     ]
    },
    {
     "name": "stderr",
     "output_type": "stream",
     "text": [
      "Batch 6091: : 6091it [01:55, 52.67it/s]\n"
     ]
    },
    {
     "name": "stdout",
     "output_type": "stream",
     "text": [
      "Epoch 6 Loss: 2.6527\n",
      "Epoch 7\n"
     ]
    },
    {
     "name": "stderr",
     "output_type": "stream",
     "text": [
      "Batch 6091: : 6091it [01:46, 57.41it/s]\n"
     ]
    },
    {
     "name": "stdout",
     "output_type": "stream",
     "text": [
      "Epoch 7 Loss: 2.7245\n",
      "Epoch 8\n"
     ]
    },
    {
     "name": "stderr",
     "output_type": "stream",
     "text": [
      "Batch 6091: : 6091it [01:49, 55.82it/s]\n"
     ]
    },
    {
     "name": "stdout",
     "output_type": "stream",
     "text": [
      "Epoch 8 Loss: 3.1121\n",
      "Epoch 9\n"
     ]
    },
    {
     "name": "stderr",
     "output_type": "stream",
     "text": [
      "Batch 6091: : 6091it [01:44, 58.47it/s]\n"
     ]
    },
    {
     "name": "stdout",
     "output_type": "stream",
     "text": [
      "Epoch 9 Loss: 3.0050\n",
      "Epoch 10\n"
     ]
    },
    {
     "name": "stderr",
     "output_type": "stream",
     "text": [
      "Batch 6091: : 6091it [01:44, 58.13it/s]\n"
     ]
    },
    {
     "name": "stdout",
     "output_type": "stream",
     "text": [
      "Epoch 10 Loss: 2.9269\n",
      "Epoch 11\n"
     ]
    },
    {
     "name": "stderr",
     "output_type": "stream",
     "text": [
      "Batch 6091: : 6091it [01:39, 60.91it/s]\n"
     ]
    },
    {
     "name": "stdout",
     "output_type": "stream",
     "text": [
      "Epoch 11 Loss: 3.1434\n",
      "Epoch 12\n"
     ]
    },
    {
     "name": "stderr",
     "output_type": "stream",
     "text": [
      "Batch 6091: : 6091it [01:42, 59.39it/s]\n"
     ]
    },
    {
     "name": "stdout",
     "output_type": "stream",
     "text": [
      "Epoch 12 Loss: 2.6415\n",
      "Epoch 13\n"
     ]
    },
    {
     "name": "stderr",
     "output_type": "stream",
     "text": [
      "Batch 6091: : 6091it [01:43, 58.87it/s]\n"
     ]
    },
    {
     "name": "stdout",
     "output_type": "stream",
     "text": [
      "Epoch 13 Loss: 3.1103\n",
      "Epoch 14\n"
     ]
    },
    {
     "name": "stderr",
     "output_type": "stream",
     "text": [
      "Batch 6091: : 6091it [01:44, 58.03it/s]\n"
     ]
    },
    {
     "name": "stdout",
     "output_type": "stream",
     "text": [
      "Epoch 14 Loss: 2.7369\n",
      "Epoch 15\n"
     ]
    },
    {
     "name": "stderr",
     "output_type": "stream",
     "text": [
      "Batch 6091: : 6091it [01:44, 58.41it/s]\n"
     ]
    },
    {
     "name": "stdout",
     "output_type": "stream",
     "text": [
      "Epoch 15 Loss: 3.0235\n",
      "Epoch 16\n"
     ]
    },
    {
     "name": "stderr",
     "output_type": "stream",
     "text": [
      "Batch 6091: : 6091it [01:42, 59.19it/s]\n"
     ]
    },
    {
     "name": "stdout",
     "output_type": "stream",
     "text": [
      "Epoch 16 Loss: 2.9932\n",
      "Epoch 17\n"
     ]
    },
    {
     "name": "stderr",
     "output_type": "stream",
     "text": [
      "Batch 6091: : 6091it [01:42, 59.29it/s]\n"
     ]
    },
    {
     "name": "stdout",
     "output_type": "stream",
     "text": [
      "Epoch 17 Loss: 2.9419\n",
      "Epoch 18\n"
     ]
    },
    {
     "name": "stderr",
     "output_type": "stream",
     "text": [
      "Batch 6091: : 6091it [01:42, 59.25it/s]\n"
     ]
    },
    {
     "name": "stdout",
     "output_type": "stream",
     "text": [
      "Epoch 18 Loss: 3.4173\n",
      "Epoch 19\n"
     ]
    },
    {
     "name": "stderr",
     "output_type": "stream",
     "text": [
      "Batch 6091: : 6091it [01:43, 58.70it/s]\n"
     ]
    },
    {
     "name": "stdout",
     "output_type": "stream",
     "text": [
      "Epoch 19 Loss: 2.8582\n",
      "Epoch 20\n"
     ]
    },
    {
     "name": "stderr",
     "output_type": "stream",
     "text": [
      "Batch 6091: : 6091it [01:44, 58.21it/s]\n"
     ]
    },
    {
     "name": "stdout",
     "output_type": "stream",
     "text": [
      "Epoch 20 Loss: 3.1229\n"
     ]
    }
   ],
   "source": [
    "policy_value_net.train()\n",
    "\n",
    "loss_history = []\n",
    "\n",
    "for epoch in range(20):\n",
    "    p_bar = tqdm(enumerate(data_loader, 0), ncols=80)\n",
    "    for i, data in p_bar:\n",
    "        p_bar.set_description(f\"Epoch {epoch + 1}: Batch {i + 1}\")\n",
    "\n",
    "        feature_planes, pi, z = data\n",
    "        feature_planes, pi, z = feature_planes.to(device), pi.to(device), z.to(device)\n",
    "\n",
    "        # 前馈\n",
    "        p_hat, value = policy_value_net(feature_planes)\n",
    "        # 梯度清零\n",
    "        optimizer.zero_grad()\n",
    "        # 计算损失\n",
    "        loss = criterion(p_hat.float(), pi.float(), value.flatten().float(), z.float())\n",
    "        # 误差反向传播\n",
    "        loss.backward()\n",
    "        # 更新参数\n",
    "        optimizer.step()\n",
    "        # 学习率退火\n",
    "        lr_scheduler.step()\n",
    "\n",
    "    print(f\"Epoch {epoch + 1} Loss: {loss.item():.4f}\")\n",
    "    loss_history.append(loss.item())\n"
   ],
   "metadata": {
    "collapsed": false,
    "ExecuteTime": {
     "end_time": "2024-01-24T13:18:13.761666300Z",
     "start_time": "2024-01-24T12:42:34.309256Z"
    }
   },
   "id": "ac4dbef6a8afd789",
   "execution_count": 13
  },
  {
   "cell_type": "code",
   "outputs": [],
   "source": [
    "torch.save(policy_value_net, \"./data/policy_value_net_20.pth\")"
   ],
   "metadata": {
    "collapsed": false,
    "ExecuteTime": {
     "end_time": "2024-01-24T13:20:23.429889900Z",
     "start_time": "2024-01-24T13:20:23.381888900Z"
    }
   },
   "id": "b7a138860cd93ea2",
   "execution_count": 14
  },
  {
   "cell_type": "code",
   "outputs": [],
   "source": [],
   "metadata": {
    "collapsed": false
   },
   "id": "e08b125303b5489f"
  }
 ],
 "metadata": {
  "kernelspec": {
   "display_name": "Python 3",
   "language": "python",
   "name": "python3"
  },
  "language_info": {
   "codemirror_mode": {
    "name": "ipython",
    "version": 2
   },
   "file_extension": ".py",
   "mimetype": "text/x-python",
   "name": "python",
   "nbconvert_exporter": "python",
   "pygments_lexer": "ipython2",
   "version": "2.7.6"
  }
 },
 "nbformat": 4,
 "nbformat_minor": 5
}
